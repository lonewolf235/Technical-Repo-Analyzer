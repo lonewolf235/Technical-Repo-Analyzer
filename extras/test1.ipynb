{
 "cells": [
  {
   "cell_type": "code",
   "execution_count": 3,
   "metadata": {},
   "outputs": [],
   "source": [
    "import os\n",
    "import requests\n",
    "import subprocess\n",
    "import nbformat\n",
    "import tempfile\n",
    "from constants import openai_key\n",
    "from langchain.llms import OpenAI\n",
    "from langchain import PromptTemplate\n",
    "from langchain.document_loaders import TextLoader\n",
    "import glob"
   ]
  },
  {
   "cell_type": "code",
   "execution_count": 39,
   "metadata": {},
   "outputs": [
    {
     "ename": "SyntaxError",
     "evalue": "invalid syntax (1586451971.py, line 1)",
     "output_type": "error",
     "traceback": [
      "\u001b[1;36m  Cell \u001b[1;32mIn [39], line 1\u001b[1;36m\u001b[0m\n\u001b[1;33m    https://github.com/lonewolf235/Strivers-SDE-Sheet-Challenge\u001b[0m\n\u001b[1;37m          ^\u001b[0m\n\u001b[1;31mSyntaxError\u001b[0m\u001b[1;31m:\u001b[0m invalid syntax\n"
     ]
    }
   ],
   "source": [
    "https://github.com/lonewolf235/Strivers-SDE-Sheet-Challenge"
   ]
  },
  {
   "cell_type": "code",
   "execution_count": 4,
   "metadata": {},
   "outputs": [],
   "source": [
    "os.environ[\"OPENAI_API_KEY\"]=openai_key\n",
    "github_url = input(\"Enter the GitHub URL of the repository: \")\n",
    "repo_name = github_url.split(\"/\")[-1]\n"
   ]
  },
  {
   "cell_type": "code",
   "execution_count": 5,
   "metadata": {},
   "outputs": [],
   "source": [
    "local_path=\"temp_clone\""
   ]
  },
  {
   "cell_type": "code",
   "execution_count": 6,
   "metadata": {},
   "outputs": [
    {
     "data": {
      "text/plain": [
       "'Titanic--Survival-Prediction'"
      ]
     },
     "execution_count": 6,
     "metadata": {},
     "output_type": "execute_result"
    }
   ],
   "source": [
    "repo_name"
   ]
  },
  {
   "cell_type": "code",
   "execution_count": 7,
   "metadata": {},
   "outputs": [
    {
     "data": {
      "text/plain": [
       "b''"
      ]
     },
     "execution_count": 7,
     "metadata": {},
     "output_type": "execute_result"
    }
   ],
   "source": [
    "subprocess.check_output(['rm', '-rf', local_path])"
   ]
  },
  {
   "cell_type": "code",
   "execution_count": 8,
   "metadata": {},
   "outputs": [
    {
     "name": "stdout",
     "output_type": "stream",
     "text": [
      "true\n"
     ]
    }
   ],
   "source": [
    "try:\n",
    "    subprocess.run(['git', 'clone', github_url, local_path], check=True)\n",
    "    print(\"true\")\n",
    "except subprocess.CalledProcessError as e:\n",
    "    print(f\"Failed to clone repository: {e}\")\n",
    "    print(\"false\")"
   ]
  },
  {
   "cell_type": "code",
   "execution_count": 12,
   "metadata": {},
   "outputs": [],
   "source": [
    "\n",
    "\n",
    "def extract_code_cells(notebook_path):\n",
    "    nb = nbformat.read(notebook_path, nbformat.NO_CONVERT)\n",
    "    code_cells = []\n",
    "\n",
    "    for cell in nb.cells:\n",
    "        if cell.cell_type == 'code':\n",
    "            source = cell.source.strip()\n",
    "            code_cells.append(source)\n",
    "\n",
    "    return code_cells\n",
    "\n",
    "def format_code_cells(code_cells):\n",
    "    formatted_code = []\n",
    "\n",
    "    for code_cell in code_cells:\n",
    "        formatted_code.append(f\"{code_cell}\")\n",
    "\n",
    "    return '\\n'.join(formatted_code)\n"
   ]
  },
  {
   "cell_type": "code",
   "execution_count": 69,
   "metadata": {},
   "outputs": [],
   "source": [
    "docs=[]\n",
    "for filename in os.scandir(local_path):\n",
    "    if filename.is_file():\n",
    "        \n",
    "        loader = TextLoader(filename)\n",
    "        x=loader.load()\n",
    "        docs.append(x[0].page_content)"
   ]
  },
  {
   "cell_type": "code",
   "execution_count": 73,
   "metadata": {},
   "outputs": [
    {
     "data": {
      "text/plain": [
       "str"
      ]
     },
     "execution_count": 73,
     "metadata": {},
     "output_type": "execute_result"
    }
   ],
   "source": [
    "type(docs[0])"
   ]
  },
  {
   "cell_type": "code",
   "execution_count": null,
   "metadata": {},
   "outputs": [],
   "source": [
    "import glob\n",
    "\n",
    "# absolute path to search all text files inside a specific folder\n",
    "path = r'E:/demos/files_demos/account/*.txt'\n",
    "files = glob.glob(path)\n",
    "print(files)"
   ]
  },
  {
   "cell_type": "code",
   "execution_count": 47,
   "metadata": {},
   "outputs": [
    {
     "data": {
      "text/plain": [
       "\"var navMenuAnchorTags = document.querySelectorAll('.nav-menu a');\\n\\nfor(var i=0 ; i<navMenuAnchorTags.length;i++)\\n{\\n     navMenuAnchorTags[i].addEventListner('click' , \\n           function(event){\\n         event.preventDefault() ;\\n         \\n         var targetSectionID =  this.textContent.trim().toLowerCase() ;\\n    \\n    //console.log(targetSectionID) ;\\n         var targetSection =  document.getElementById(targetSectionID) ;\\n         \\n         \\n       var interval = setInterval(function)({\\n         \\n           var targetSectionCoordinates = targetSection.getBoundingClientRect() ;\\n         \\n           if(targetSectionCoordinates.top <= 0)\\n         {\\n             clearInterval(interval);\\n             return ;\\n         }\\n         window.scrollBy(0,20) ;\\n         \\n     } , 50);\\n     \\n     }) ;                              \\n                                         \\n                                         \\n     \\n    \\n    \\n    \\n    \\n}\""
      ]
     },
     "execution_count": 47,
     "metadata": {},
     "output_type": "execute_result"
    }
   ],
   "source": [
    "docs[3][0].page_content"
   ]
  },
  {
   "cell_type": "code",
   "execution_count": 9,
   "metadata": {},
   "outputs": [],
   "source": [
    "extensions = ['.py', '.js', '.java', '.c', '.cpp', '.cs', '.go', '.rb', '.php', '.scala', '.html', '.htm','.sh', '.bash', '.sql', '.ipynb']\n",
    "docs=[]"
   ]
  },
  {
   "cell_type": "code",
   "execution_count": null,
   "metadata": {},
   "outputs": [],
   "source": [
    "len(docs)"
   ]
  },
  {
   "cell_type": "code",
   "execution_count": 48,
   "metadata": {},
   "outputs": [],
   "source": [
    "template = \"\"\"/\n",
    "Calculate and return the summation of cyclomatic complexity*1,nesting depth*0.25, lines of code*0.005 of:\n",
    "{code}\n",
    "\n",
    "Instr:\n",
    "1.Return the total value of summationonly in the format strictly without any working, just return the final value of summation even if it reaches to more than one decimal places,dont return any working just the float value of summation.\n",
    "Answer: \n",
    "\"\"\"\n",
    "prompt = PromptTemplate.from_template(template)"
   ]
  },
  {
   "cell_type": "code",
   "execution_count": 49,
   "metadata": {},
   "outputs": [],
   "source": [
    "def is_float(string):\n",
    "    try:\n",
    "        float(string)\n",
    "        return True\n",
    "    except ValueError:\n",
    "        return False"
   ]
  },
  {
   "cell_type": "code",
   "execution_count": 63,
   "metadata": {},
   "outputs": [],
   "source": [
    "complexity=0.0\n",
    "newtemp=prompt.format(code=docs[3][0].page_content)\n",
    "llm=OpenAI(temperature=0.5)\n",
    "result=llm(newtemp)\n",
    "if(is_float(result)):\n",
    "    val=(float)(result)\n",
    "    complexity+=val\n",
    "    "
   ]
  },
  {
   "cell_type": "code",
   "execution_count": 64,
   "metadata": {},
   "outputs": [
    {
     "data": {
      "text/plain": [
       "2.75"
      ]
     },
     "execution_count": 64,
     "metadata": {},
     "output_type": "execute_result"
    }
   ],
   "source": [
    "complexity"
   ]
  },
  {
   "cell_type": "code",
   "execution_count": null,
   "metadata": {},
   "outputs": [],
   "source": [
    "complexity=0.0\n",
    "for f in docs:\n",
    "    newtemp=prompt.format(code=f[0].page_content)\n",
    "    llm=OpenAI(temperature=0.5)\n",
    "    result=llm(newtemp)\n",
    "    if(is_float(result)):\n",
    "        val=(float)(result)\n",
    "        complexity+=val"
   ]
  },
  {
   "cell_type": "code",
   "execution_count": null,
   "metadata": {},
   "outputs": [],
   "source": [
    "complexity"
   ]
  },
  {
   "cell_type": "code",
   "execution_count": 24,
   "metadata": {},
   "outputs": [
    {
     "name": "stdout",
     "output_type": "stream",
     "text": [
      "\n",
      "My name is Prakash\n",
      "this is my code.\n",
      "I am god\n",
      "\n",
      "U r god too\n",
      "\n"
     ]
    }
   ],
   "source": [
    "str='''\n",
    "My name is Prakash\n",
    "this is my code.\n",
    "I am god\n",
    "\n",
    "U r god too\n",
    "'''\n",
    "print(str)"
   ]
  },
  {
   "cell_type": "code",
   "execution_count": null,
   "metadata": {},
   "outputs": [],
   "source": [
    "complex={}\n",
    "complex[repo_name]=complexity\n",
    "complex"
   ]
  },
  {
   "cell_type": "code",
   "execution_count": 15,
   "metadata": {},
   "outputs": [
    {
     "name": "stdout",
     "output_type": "stream",
     "text": [
      "Titanic_Survival_Prediction.ipynb\n"
     ]
    }
   ],
   "source": [
    "docs=[]\n",
    "for filename in os.scandir(local_path):  ## this point is remaining\n",
    "    if filename.is_file():\n",
    "        print((filename.name))\n",
    "        try:\n",
    "            loader = None\n",
    "            if filename.name.endswith(\".ipynb\"):\n",
    "                code_cells = extract_code_cells(filename)\n",
    "                formatted_code = format_code_cells(code_cells)\n",
    "                docs.append(formatted_code)\n",
    "            else:\n",
    "                loader = TextLoader(filename)\n",
    "                x=loader.load()\n",
    "                docs.append(x[0].page_content)\n",
    "        except Exception as e:\n",
    "            print(\"Error loading files with pattern \")\n",
    "            continue ## till here and then in loop"
   ]
  },
  {
   "cell_type": "code",
   "execution_count": 14,
   "metadata": {},
   "outputs": [
    {
     "name": "stdout",
     "output_type": "stream",
     "text": [
      "[\"import numpy as nd\\nimport pandas as pd\\nimport matplotlib.pyplot as plt\\nimport seaborn as sns\\nfrom sklearn.model_selection import train_test_split\\nfrom sklearn.linear_model import LogisticRegression\\nfrom sklearn.metrics import accuracy_score\\ntitanic_data = pd.read_csv('/content/train.csv')\\ntitanic_data.head()\\ntitanic_data.shape\\ntitanic_data.info()\\ntitanic_data.isnull().sum()\\ntitanic_data = titanic_data.drop(columns='Cabin', axis=1)\\ntitanic_data['Age'].fillna(titanic_data['Age'].mean(),inplace=True)\\nprint(titanic_data['Embarked'].mode())\\nprint(titanic_data['Embarked'].mode()[0])\\ntitanic_data['Embarked'].fillna(titanic_data['Embarked'].mode()[0],inplace=True)\\ntitanic_data.isnull().sum()\\ntitanic_data.describe()\\ntitanic_data['Survived'].value_counts()\\nsns.set()\\nsns.countplot('Survived',data=titanic_data)\\ntitanic_data['Sex'].value_counts()\\nsns.countplot('Sex',data=titanic_data)\\nsns.countplot('Sex',hue='Survived',data=titanic_data)\\nsns.countplot('Pclass',data=titanic_data)\\nsns.countplot('Pclass',hue='Survived',data=titanic_data)\\ntitanic_data['Embarked'].value_counts()\\ntitanic_data.replace({'Sex':{'male':0,'female':1},'Embarked':{'S':0,'C':1,'Q':2}},inplace=True)\\ntitanic_data.head()\\nX=titanic_data.drop(columns={'Name','PassengerId','Ticket','Survived'},axis=1)\\nY=titanic_data['Survived']\\nprint(X)\\n\\nX_train, X_test, Y_train, Y_test= train_test_split(X,Y,test_size=0.2, random_state=2)\\nprint(X.shape,X_train.shape, X_test.shape)\\nmodel = LogisticRegression()\\nmodel.fit(X_train, Y_train)\\nX_train_prediction=model.predict(X_train)\\nprint(X_train_prediction)\\ntraining_data_accuracy = accuracy_score(Y_train, X_train_prediction)\\nprint(training_data_accuracy)\\nX_test_prediction = model.predict(X_test)\\nprint(X_test_prediction)\\ntest_data_accuracy = accuracy_score(Y_test, X_test_prediction)\\nprint('Accuracy score of test data : ', test_data_accuracy)\\n\"]\n"
     ]
    }
   ],
   "source": [
    "print((docs))"
   ]
  },
  {
   "cell_type": "code",
   "execution_count": 2,
   "metadata": {},
   "outputs": [],
   "source": [
    "import os\n",
    "os.makedirs(\"temp_clone\")"
   ]
  },
  {
   "cell_type": "code",
   "execution_count": 10,
   "metadata": {},
   "outputs": [
    {
     "name": "stdout",
     "output_type": "stream",
     "text": [
      "Deleted: temp_clone\\Data Preprocessing\n",
      "Deleted: temp_clone\\Data Visualization\n",
      "Deleted: temp_clone\\LICENSE\n",
      "Deleted: temp_clone\\README.md\n",
      "Deleted: temp_clone\\Training and testing\n"
     ]
    }
   ],
   "source": [
    "def delete_files_except_extensions(directory, extensions):\n",
    "    for filename in os.listdir(directory):\n",
    "        file_path = os.path.join(directory, filename)\n",
    "        if os.path.isfile(file_path):\n",
    "            file_extension = os.path.splitext(filename)[1]\n",
    "            if file_extension not in extensions:\n",
    "                os.remove(file_path)\n",
    "                print(f\"Deleted: {file_path}\")\n",
    "\n",
    "delete_files_except_extensions(local_path, extensions)"
   ]
  }
 ],
 "metadata": {
  "kernelspec": {
   "display_name": "minimal_ds",
   "language": "python",
   "name": "python3"
  },
  "language_info": {
   "codemirror_mode": {
    "name": "ipython",
    "version": 3
   },
   "file_extension": ".py",
   "mimetype": "text/x-python",
   "name": "python",
   "nbconvert_exporter": "python",
   "pygments_lexer": "ipython3",
   "version": "3.10.8"
  },
  "orig_nbformat": 4
 },
 "nbformat": 4,
 "nbformat_minor": 2
}
